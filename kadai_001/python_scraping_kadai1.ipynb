{
  "nbformat": 4,
  "nbformat_minor": 0,
  "metadata": {
    "colab": {
      "provenance": []
    },
    "kernelspec": {
      "name": "python3",
      "display_name": "Python 3"
    },
    "language_info": {
      "name": "python"
    }
  },
  "cells": [
    {
      "cell_type": "code",
      "execution_count": 1,
      "metadata": {
        "colab": {
          "base_uri": "https://localhost:8080/"
        },
        "id": "07-D_A6jQYw6",
        "outputId": "00d5d9ac-0a9a-4519-c30e-1d24a7c80de2"
      },
      "outputs": [
        {
          "output_type": "stream",
          "name": "stdout",
          "text": [
            "岸田文雄首相　岸田文雄首相が10月に取りまとめる経済対策の柱を25日に表明する方向となったことが、22日分かった。閣僚への策定指示は26日に出す見通し。光熱費や食料品価格の高騰による家計への打撃を緩和するための物価高対策に加え、賃上げや投資促進などを軸に具体策を詰める。\n",
            "\n",
            "【グラフ】1世帯当たりの消費支出増減率　7月の消費支出、5.0％減　2年5カ月ぶり下落率　政府は対策の財源を裏付ける2023年度補正予算案を編成する方針だ。経済成長を促す考えだが、新型コロナウイルス対策で膨らんだ歳出の正常化に向けて支出規模を抑えられるかどうかが焦点。自民党の世耕弘成参院幹事長は「15兆～20兆円が必要だ」と発言している。\n"
          ]
        }
      ],
      "source": [
        "import requests\n",
        "from bs4 import BeautifulSoup\n",
        "\n",
        "#記事のURL\n",
        "url=\"https://news.yahoo.co.jp/articles/f54264629b872d43eb686c8ce03c698dcba2c487\"\n",
        "\n",
        "#HTMLを取得\n",
        "response=requests.get(url)\n",
        "#解析\n",
        "soup=BeautifulSoup(response.text,'html.parser')\n",
        "\n",
        "#CSSセレクタで記事を取得\n",
        "kiji_element=soup.select_one('#uamods>div')\n",
        "\n",
        "#記事のテキストのみ取得\n",
        "kiji_text=kiji_element.text\n",
        "\n",
        "#出力\n",
        "print(kiji_text)\n"
      ]
    }
  ]
}